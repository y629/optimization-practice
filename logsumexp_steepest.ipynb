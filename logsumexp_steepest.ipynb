{
 "cells": [
  {
   "cell_type": "code",
   "execution_count": 68,
   "metadata": {},
   "outputs": [],
   "source": [
    "import numpy as np\n",
    "import matplotlib.pyplot as plt\n",
    "%matplotlib inline"
   ]
  },
  {
   "cell_type": "code",
   "execution_count": 93,
   "metadata": {},
   "outputs": [],
   "source": [
    "def generate_constant(m, n):\n",
    "    # 平均0, 分散1の正規分布にしたがって行列を生成\n",
    "    A = np.random.randn(m, n)\n",
    "    # Aのランクがnになる <=> Aの各列ベクトルが1次独立であるか確認\n",
    "    assert np.linalg.matrix_rank(A) == n\n",
    "\n",
    "    # L-平滑のLを計算\n",
    "    # LはAA^Tの最大固有値(Lmaxとする)以下であることを用いてLを生成\n",
    "    val, vec = np.linalg.eig(np.dot(A, A.T))\n",
    "    L = val[0].real\n",
    "    return A, L"
   ]
  },
  {
   "cell_type": "code",
   "execution_count": 94,
   "metadata": {},
   "outputs": [],
   "source": [
    "# logsumexp関数を定義\n",
    "def f(x):\n",
    "    sum = 0\n",
    "    for a in A:\n",
    "        sum += np.exp(np.dot(a.T, x) + 1)\n",
    "    return np.log(sum)\n",
    "\n",
    "# logsumexpの勾配を定義\n",
    "def nabla_f(x):\n",
    "    # 勾配の分母（スカラ）    \n",
    "    denominator = 0\n",
    "    # 勾配の分子（n次元ベクトル）\n",
    "    nominator = 0\n",
    "    for a in A:\n",
    "        denominator += np.exp(np.dot(a.T, x) + 1)\n",
    "        nominator += a * np.exp(np.dot(a.T, x) + 1)\n",
    "    return nominator/denominator"
   ]
  },
  {
   "cell_type": "code",
   "execution_count": 95,
   "metadata": {},
   "outputs": [],
   "source": [
    "EPS = 10**(-8)\n",
    "# 最急降下法\n",
    "def steepest(x0, L, f, nabla_f, fstar=None, step=10000):\n",
    "    cnt = step\n",
    "    x = np.ndarray((step, n))\n",
    "    f_history = np.ndarray((step))\n",
    "    x[0] = x0\n",
    "    if fstar is None:\n",
    "        f_history[0] = f(x0)\n",
    "    else:\n",
    "        f_history[0] = f(x0) - fstar\n",
    "    for i in range(STEP):\n",
    "        if i == 0:\n",
    "            continue\n",
    "        x[i] = x[i-1] - nabla_f(x[i-1]) / L\n",
    "        if fstar is None:\n",
    "            f_history[i] = f(x[i])\n",
    "        else:\n",
    "            f_history[i] = f(x[i]) - fstar\n",
    "        if fstar is not None:\n",
    "            if f_history[i] <= EPS:\n",
    "                cnt = i\n",
    "                break\n",
    "        else:\n",
    "            if np.linalg.norm(nabla_f(x[i])) <= EPS:\n",
    "                cnt = i\n",
    "                break\n",
    "    return f_history[:cnt], cnt\n",
    "\n",
    "# Nesterovの加速\n",
    "def nesterov(x0, L, f, nabla_f, fstar=None, step=10000):\n",
    "    cnt = step\n",
    "    x = np.ndarray((step, n))\n",
    "    y = np.ndarray((step, n))\n",
    "    f_history = np.ndarray((step))\n",
    "    x[0], y[0] = x0, x0\n",
    "    p_lam = 0\n",
    "    if fstar is None:\n",
    "        f_history[0] = f(x0)\n",
    "    else:\n",
    "        f_history[0] = f(x0) - fstar\n",
    "    for i in range(STEP):\n",
    "        if i == 0:\n",
    "            continue\n",
    "        # 慣性項の係数gammaの計算\n",
    "        lam = (1+np.sqrt(1+4*p_lam*p_lam))/2\n",
    "        gamma = (p_lam-1)/lam\n",
    "        p_lam = lam\n",
    "        # steepestからの主な変更点\n",
    "        y[i] = x[i-1] - nabla_f(x[i-1]) / L\n",
    "        x[i] = y[i] + gamma * (y[i] - y[i-1])\n",
    "        if fstar is None:\n",
    "            f_history[i] = f(x[i])\n",
    "        else:\n",
    "            f_history[i] = f(x[i]) - fstar\n",
    "        if fstar is not None:\n",
    "            if f_history[i] <= EPS:\n",
    "                cnt = i\n",
    "                break\n",
    "        else:\n",
    "            if np.linalg.norm(nabla_f(x[i])) <= EPS:\n",
    "                cnt = i\n",
    "                break\n",
    "    return f_history[:cnt], cnt"
   ]
  },
  {
   "cell_type": "markdown",
   "metadata": {},
   "source": [
    "# (m, n) = (100, 10)"
   ]
  },
  {
   "cell_type": "code",
   "execution_count": 98,
   "metadata": {},
   "outputs": [
    {
     "name": "stdout",
     "output_type": "stream",
     "text": [
      "gd iter count = 2518\n",
      "ne iter count = 1367\n"
     ]
    }
   ],
   "source": [
    "m,n = 100, 10\n",
    "# 初期点x0を標準正規分布から生成\n",
    "x0 = np.random.randn(n)\n",
    "# m,nを設定しAとLを生成\n",
    "A, L = generate_constant(m, n)\n",
    "# まずはNesterovの加速で最小値を出す\n",
    "f_history_ne, _ = nesterov(x0, L, f, nabla_f)\n",
    "# 最小値を保存\n",
    "fstar = f_history_ne[-1]\n",
    "# 今度はf-fstarの値をプロットしたいのでもう一回ずつ実行\n",
    "diff_history_gd, cnt_gd = steepest(x0, L, f, nabla_f, fstar)\n",
    "print(\"gd iter count = {}\".format(cnt_gd))\n",
    "diff_history_ne, cnt_ne = nesterov(x0, L, f, nabla_f, fstar)\n",
    "print(\"ne iter count = {}\".format(cnt_ne))"
   ]
  },
  {
   "cell_type": "code",
   "execution_count": 99,
   "metadata": {},
   "outputs": [
    {
     "data": {
      "image/png": "[encoded data removed]",
      "text/plain": [
       "<Figure size 432x288 with 1 Axes>"
      ]
     },
     "metadata": {
      "needs_background": "light"
     },
     "output_type": "display_data"
    }
   ],
   "source": [
    "x_gd = np.array(range(cnt_gd))\n",
    "x_ne = np.array(range(cnt_ne))\n",
    "# fの値の変化をプロット, y軸を対数めもりにする\n",
    "plt.yscale('log')\n",
    "plt.grid(which='major',color='black',linestyle='-')\n",
    "plt.plot(x_gd, diff_history_gd, color='r', label='gradient desc.')\n",
    "plt.plot(x_ne, diff_history_ne, color='b', label='nesterov acc.')\n",
    "plt.legend()\n",
    "plt.show()"
   ]
  },
  {
   "cell_type": "markdown",
   "metadata": {},
   "source": [
    "# (m, n) = (500, 50)"
   ]
  },
  {
   "cell_type": "code",
   "execution_count": 100,
   "metadata": {},
   "outputs": [
    {
     "name": "stdout",
     "output_type": "stream",
     "text": [
      "gd iter count = 10000\n",
      "ne iter count = 7541\n"
     ]
    }
   ],
   "source": [
    "m,n = 500, 50\n",
    "# 初期点x0を標準正規分布から生成\n",
    "x0 = np.random.randn(n)\n",
    "# m,nを設定しAとLを生成\n",
    "A, L = generate_constant(m, n)\n",
    "# まずはNesterovの加速で最小値を出す\n",
    "f_history_ne, _ = nesterov(x0, L, f, nabla_f)\n",
    "# 最小値を保存\n",
    "fstar = f_history_ne[-1]\n",
    "# 今度はf-fstarの値をプロットしたいのでもう一回ずつ実行\n",
    "diff_history_gd, cnt_gd = steepest(x0, L, f, nabla_f, fstar)\n",
    "print(\"gd iter count = {}\".format(cnt_gd))\n",
    "diff_history_ne, cnt_ne = nesterov(x0, L, f, nabla_f, fstar)\n",
    "print(\"ne iter count = {}\".format(cnt_ne))"
   ]
  },
  {
   "cell_type": "code",
   "execution_count": 101,
   "metadata": {},
   "outputs": [
    {
     "data": {
      "image/png": "[encoded data removed]",
      "text/plain": [
       "<Figure size 432x288 with 1 Axes>"
      ]
     },
     "metadata": {
      "needs_background": "light"
     },
     "output_type": "display_data"
    }
   ],
   "source": [
    "x_gd = np.array(range(cnt_gd))\n",
    "x_ne = np.array(range(cnt_ne))\n",
    "# fの値の変化をプロット, y軸を対数めもりにする\n",
    "plt.yscale('log')\n",
    "plt.grid(which='major',color='black',linestyle='-')\n",
    "plt.plot(x_gd, diff_history_gd, color='r', label='gradient desc.')\n",
    "plt.plot(x_ne, diff_history_ne, color='b', label='nesterov acc.')\n",
    "plt.legend()\n",
    "plt.show()"
   ]
  }
 ],
 "metadata": {
  "kernelspec": {
   "display_name": "Python 3",
   "language": "python",
   "name": "python3"
  },
  "language_info": {
   "codemirror_mode": {
    "name": "ipython",
    "version": 3
   },
   "file_extension": ".py",
   "mimetype": "text/x-python",
   "name": "python",
   "nbconvert_exporter": "python",
   "pygments_lexer": "ipython3",
   "version": "3.9.4"
  }
 },
 "nbformat": 4,
 "nbformat_minor": 4
}
