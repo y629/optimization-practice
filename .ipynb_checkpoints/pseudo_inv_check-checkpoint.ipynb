{
 "cells": [
  {
   "cell_type": "markdown",
   "metadata": {},
   "source": [
    "# 一般逆行列\n",
    "\n",
    "一般逆行列に対していろいろ確認してみる．\n",
    "\n",
    "- ライブラリを用いて得た一般逆行列が，特異値分解を利用して求めた結果と一致することを示す．\n",
    "\n",
    "- $A$ の一般逆行列と連立方程式 $Ax=b$ との関係を確認する．\n",
    "\n",
    "`numpy` の線形代数用のライブラリ `numpy.linalg` を用いる．（参考 https://numpy.org/doc/stable/reference/routines.linalg.html  ）"
   ]
  },
  {
   "cell_type": "code",
   "execution_count": 2,
   "metadata": {},
   "outputs": [],
   "source": [
    "# 必要なライブラリの import\n",
    "import numpy as np\n",
    "nl = np.linalg"
   ]
  },
  {
   "cell_type": "markdown",
   "metadata": {},
   "source": [
    "## 逆行列を求める\n",
    "\n",
    "`np.linalg.inv` で簡単にできる．上で `nl = np.linalg` とエイリアスを設定しているので以下のようにできる．\n",
    "逆行列が存在しない(行列が正則でない)場合はエラーになる．\n",
    "\n",
    "以下において，行列 $A$ は正則(行列式が非ゼロ)だが， $B$ は正則でない(行列式が0)ので， $B$ の逆行列は存在しない．"
   ]
  },
  {
   "cell_type": "code",
   "execution_count": 3,
   "metadata": {
    "scrolled": true
   },
   "outputs": [
    {
     "name": "stdout",
     "output_type": "stream",
     "text": [
      "|A| = 1.0\n",
      "\n",
      "A =\n",
      " [[2 3]\n",
      " [1 2]]\n",
      "\n",
      "A^-1 = \n",
      " [[ 2. -3.]\n",
      " [-1.  2.]]\n",
      "\n",
      "AA^-1 = \n",
      "[[1. 0.]\n",
      " [0. 1.]]\n"
     ]
    }
   ],
   "source": [
    "# 行列を定義し，その逆行列を表示してみる\n",
    "A = np.array([[2, 3], [1, 2]])\n",
    "print('|A| = {0}\\n'.format(nl.det(A)))\n",
    "print('A =\\n {0}\\n'.format(A))\n",
    "print('A^-1 = \\n {0}\\n'.format(nl.inv(A)))\n",
    "\n",
    "print('AA^-1 = \\n{0}'.format(np.dot(A, nl.inv(A))))"
   ]
  },
  {
   "cell_type": "code",
   "execution_count": 4,
   "metadata": {},
   "outputs": [
    {
     "name": "stdout",
     "output_type": "stream",
     "text": [
      "|B| = 0.0\n",
      "\n",
      "B =\n",
      " [[2 1]\n",
      " [6 3]]\n",
      "\n"
     ]
    },
    {
     "ename": "LinAlgError",
     "evalue": "Singular matrix",
     "output_type": "error",
     "traceback": [
      "\u001b[0;31m---------------------------------------------------------------------------\u001b[0m",
      "\u001b[0;31mLinAlgError\u001b[0m                               Traceback (most recent call last)",
      "\u001b[0;32m<ipython-input-4-f58036b961d8>\u001b[0m in \u001b[0;36m<module>\u001b[0;34m\u001b[0m\n\u001b[1;32m      2\u001b[0m \u001b[0mprint\u001b[0m\u001b[0;34m(\u001b[0m\u001b[0;34m'|B| = {0}\\n'\u001b[0m\u001b[0;34m.\u001b[0m\u001b[0mformat\u001b[0m\u001b[0;34m(\u001b[0m\u001b[0mnl\u001b[0m\u001b[0;34m.\u001b[0m\u001b[0mdet\u001b[0m\u001b[0;34m(\u001b[0m\u001b[0mB\u001b[0m\u001b[0;34m)\u001b[0m\u001b[0;34m)\u001b[0m\u001b[0;34m)\u001b[0m\u001b[0;34m\u001b[0m\u001b[0m\n\u001b[1;32m      3\u001b[0m \u001b[0mprint\u001b[0m\u001b[0;34m(\u001b[0m\u001b[0;34m'B =\\n {0}\\n'\u001b[0m\u001b[0;34m.\u001b[0m\u001b[0mformat\u001b[0m\u001b[0;34m(\u001b[0m\u001b[0mB\u001b[0m\u001b[0;34m)\u001b[0m\u001b[0;34m)\u001b[0m\u001b[0;34m\u001b[0m\u001b[0m\n\u001b[0;32m----> 4\u001b[0;31m \u001b[0mprint\u001b[0m\u001b[0;34m(\u001b[0m\u001b[0;34m'B^-1 = \\n {0}\\n'\u001b[0m\u001b[0;34m.\u001b[0m\u001b[0mformat\u001b[0m\u001b[0;34m(\u001b[0m\u001b[0mnl\u001b[0m\u001b[0;34m.\u001b[0m\u001b[0minv\u001b[0m\u001b[0;34m(\u001b[0m\u001b[0mB\u001b[0m\u001b[0;34m)\u001b[0m\u001b[0;34m)\u001b[0m\u001b[0;34m)\u001b[0m \u001b[0;31m# エラー発生\u001b[0m\u001b[0;34m\u001b[0m\u001b[0m\n\u001b[0m",
      "\u001b[0;32m~/.pyenv/versions/3.6.5/lib/python3.6/site-packages/numpy/linalg/linalg.py\u001b[0m in \u001b[0;36minv\u001b[0;34m(a)\u001b[0m\n\u001b[1;32m    549\u001b[0m     \u001b[0msignature\u001b[0m \u001b[0;34m=\u001b[0m \u001b[0;34m'D->D'\u001b[0m \u001b[0;32mif\u001b[0m \u001b[0misComplexType\u001b[0m\u001b[0;34m(\u001b[0m\u001b[0mt\u001b[0m\u001b[0;34m)\u001b[0m \u001b[0;32melse\u001b[0m \u001b[0;34m'd->d'\u001b[0m\u001b[0;34m\u001b[0m\u001b[0m\n\u001b[1;32m    550\u001b[0m     \u001b[0mextobj\u001b[0m \u001b[0;34m=\u001b[0m \u001b[0mget_linalg_error_extobj\u001b[0m\u001b[0;34m(\u001b[0m\u001b[0m_raise_linalgerror_singular\u001b[0m\u001b[0;34m)\u001b[0m\u001b[0;34m\u001b[0m\u001b[0m\n\u001b[0;32m--> 551\u001b[0;31m     \u001b[0mainv\u001b[0m \u001b[0;34m=\u001b[0m \u001b[0m_umath_linalg\u001b[0m\u001b[0;34m.\u001b[0m\u001b[0minv\u001b[0m\u001b[0;34m(\u001b[0m\u001b[0ma\u001b[0m\u001b[0;34m,\u001b[0m \u001b[0msignature\u001b[0m\u001b[0;34m=\u001b[0m\u001b[0msignature\u001b[0m\u001b[0;34m,\u001b[0m \u001b[0mextobj\u001b[0m\u001b[0;34m=\u001b[0m\u001b[0mextobj\u001b[0m\u001b[0;34m)\u001b[0m\u001b[0;34m\u001b[0m\u001b[0m\n\u001b[0m\u001b[1;32m    552\u001b[0m     \u001b[0;32mreturn\u001b[0m \u001b[0mwrap\u001b[0m\u001b[0;34m(\u001b[0m\u001b[0mainv\u001b[0m\u001b[0;34m.\u001b[0m\u001b[0mastype\u001b[0m\u001b[0;34m(\u001b[0m\u001b[0mresult_t\u001b[0m\u001b[0;34m,\u001b[0m \u001b[0mcopy\u001b[0m\u001b[0;34m=\u001b[0m\u001b[0;32mFalse\u001b[0m\u001b[0;34m)\u001b[0m\u001b[0;34m)\u001b[0m\u001b[0;34m\u001b[0m\u001b[0m\n\u001b[1;32m    553\u001b[0m \u001b[0;34m\u001b[0m\u001b[0m\n",
      "\u001b[0;32m~/.pyenv/versions/3.6.5/lib/python3.6/site-packages/numpy/linalg/linalg.py\u001b[0m in \u001b[0;36m_raise_linalgerror_singular\u001b[0;34m(err, flag)\u001b[0m\n\u001b[1;32m     95\u001b[0m \u001b[0;34m\u001b[0m\u001b[0m\n\u001b[1;32m     96\u001b[0m \u001b[0;32mdef\u001b[0m \u001b[0m_raise_linalgerror_singular\u001b[0m\u001b[0;34m(\u001b[0m\u001b[0merr\u001b[0m\u001b[0;34m,\u001b[0m \u001b[0mflag\u001b[0m\u001b[0;34m)\u001b[0m\u001b[0;34m:\u001b[0m\u001b[0;34m\u001b[0m\u001b[0m\n\u001b[0;32m---> 97\u001b[0;31m     \u001b[0;32mraise\u001b[0m \u001b[0mLinAlgError\u001b[0m\u001b[0;34m(\u001b[0m\u001b[0;34m\"Singular matrix\"\u001b[0m\u001b[0;34m)\u001b[0m\u001b[0;34m\u001b[0m\u001b[0m\n\u001b[0m\u001b[1;32m     98\u001b[0m \u001b[0;34m\u001b[0m\u001b[0m\n\u001b[1;32m     99\u001b[0m \u001b[0;32mdef\u001b[0m \u001b[0m_raise_linalgerror_nonposdef\u001b[0m\u001b[0;34m(\u001b[0m\u001b[0merr\u001b[0m\u001b[0;34m,\u001b[0m \u001b[0mflag\u001b[0m\u001b[0;34m)\u001b[0m\u001b[0;34m:\u001b[0m\u001b[0;34m\u001b[0m\u001b[0m\n",
      "\u001b[0;31mLinAlgError\u001b[0m: Singular matrix"
     ]
    }
   ],
   "source": [
    "B = np.array([[2,1],[6,3]])\n",
    "print('|B| = {0}\\n'.format(nl.det(B)))\n",
    "print('B =\\n {0}\\n'.format(B))\n",
    "print('B^-1 = \\n {0}\\n'.format(nl.inv(B))) # エラー発生"
   ]
  },
  {
   "cell_type": "markdown",
   "metadata": {},
   "source": [
    "## 一般逆行列を求める\n",
    "\n",
    "`nl.pinv` ( 'p' は 'pseudo' の頭文字 ) で一般逆行列の計算ができる．\n",
    "上の非正則行列 $B$ の一般逆行列を求める．"
   ]
  },
  {
   "cell_type": "code",
   "execution_count": 5,
   "metadata": {},
   "outputs": [
    {
     "name": "stdout",
     "output_type": "stream",
     "text": [
      "B^- = \n",
      " [[0.04 0.12]\n",
      " [0.02 0.06]]\n",
      "\n"
     ]
    }
   ],
   "source": [
    "print('B^- = \\n {0}\\n'.format(nl.pinv(B)))"
   ]
  },
  {
   "cell_type": "markdown",
   "metadata": {},
   "source": [
    "## 特異値分解との関係\n",
    "\n",
    "$B = USV^T$ と特異値分解できるとき，$B$ の一般逆行列 $B^-$ は$B^- = VS^{-1}U^T$ と分解できる．\n",
    "\n",
    "$S$ は特異値が並んだ行列となるので，$S^{-1}$ は非ゼロの特異値($S$ の非ゼロ要素)を逆数にした行列となる．\n",
    "\n",
    "以下で，上の非正則行列 $B$ を特異値分解し，それを利用して一般化逆行列を構成する．"
   ]
  },
  {
   "cell_type": "code",
   "execution_count": 6,
   "metadata": {},
   "outputs": [
    {
     "name": "stdout",
     "output_type": "stream",
     "text": [
      "Bの特異値 = [7.07106781e+00 3.97205465e-16]\n"
     ]
    }
   ],
   "source": [
    "# SVDを行う\n",
    "u, s, v = nl.svd(B)\n",
    "print('Bの特異値 = {0}'.format(s))"
   ]
  },
  {
   "cell_type": "markdown",
   "metadata": {},
   "source": [
    "特異値分解の結果より，2番目の特異値は非常に小さいので0としてよさそうである．\n",
    "\n",
    "0とみなす特異値の閾値を `eps` として定義しておいて，それより大きい特異値のみ逆数をとることにし，それ以下のものは0にして非ゼロ特異値の逆数を並べた行列(非対角成分は0)を構成する．"
   ]
  },
  {
   "cell_type": "code",
   "execution_count": 7,
   "metadata": {
    "scrolled": true
   },
   "outputs": [
    {
     "name": "stdout",
     "output_type": "stream",
     "text": [
      "S^-1 = \n",
      "[[0.14142136 0.        ]\n",
      " [0.         0.        ]]\n"
     ]
    }
   ],
   "source": [
    "eps = 1e-10 # 0とみなす特異値の閾値\n",
    "\n",
    "# t <= eps なる特異値 t は0にし，そうでないものは逆数1/tをとる\n",
    "s = [1/t * int(t > eps) for t in s]\n",
    "\n",
    "# sを2次元ベクトルを2*2の対角行列にする\n",
    "sigma = np.zeros((2,2))\n",
    "for i in range(sigma.ndim):\n",
    "    sigma[i][i] = s[i] # 対角成分のみ設定\n",
    "print('S^-1 = \\n{0}'.format(sigma))"
   ]
  },
  {
   "cell_type": "code",
   "execution_count": 8,
   "metadata": {},
   "outputs": [
    {
     "name": "stdout",
     "output_type": "stream",
     "text": [
      "B^- = \n",
      " [[0.04 0.12]\n",
      " [0.02 0.06]]\n",
      "\n"
     ]
    }
   ],
   "source": [
    "# 特異値分解の結果から一般逆行列を構成する\n",
    "Bp = np.dot(np.dot(v.T, sigma), u.T)\n",
    "print('B^- = \\n {0}\\n'.format(Bp))"
   ]
  },
  {
   "cell_type": "markdown",
   "metadata": {},
   "source": [
    "上の結果より，特異値分解の結果から計算した$B$の一般逆行列が， `nl.pinv(B)` で計算したものと一致していることがわかる．"
   ]
  },
  {
   "cell_type": "markdown",
   "metadata": {},
   "source": [
    "## 連立1次方程式との関係\n",
    "\n",
    "### 1. 係数行列$A$ が正則の場合\n",
    "$$\n",
    "A = \\left[\n",
    "   \\begin{array}{rrr}\n",
    "      2 & 3 \\\\\n",
    "      1 & 2\n",
    "    \\end{array}\n",
    "\\right]\n",
    "$$\n",
    "\n",
    "の場合，上で見たように $A$ は正則である．よって，$Ax = b$ の解は一意に定まる．\n",
    "これは幾何学的には xy 平面上の2直線の交点がただ一つ定まることを意味する．\n",
    "\n",
    "今回 $b = (1,1)$ として，連立1次方程式 $Ax = b$ を解く．\n",
    "\n",
    "$A$ の逆行列は存在するので，それを両辺に左からかければ解が求まる．\n",
    "\n",
    "その解を点でプロットし，2直線の交点になっていることを確かめる．"
   ]
  },
  {
   "cell_type": "code",
   "execution_count": 28,
   "metadata": {},
   "outputs": [],
   "source": [
    "import matplotlib.pyplot as plt\n",
    "%matplotlib inline"
   ]
  },
  {
   "cell_type": "code",
   "execution_count": 29,
   "metadata": {},
   "outputs": [],
   "source": [
    "# Ax = b\n",
    "A = np.array([[2, 3], [1, 2]])\n",
    "b = np.array((1,1))\n",
    "x = np.linspace(-5, 5, 100) # [-5,5]の範囲で100点等間隔にとる\n",
    "\n",
    "# 方程式の表す直線の式\n",
    "y1 = (-A[0][0] * x + b[0]) / A[0][1]\n",
    "y2 = (-A[1][0] * x + b[1]) / A[1][1]"
   ]
  },
  {
   "cell_type": "code",
   "execution_count": 30,
   "metadata": {},
   "outputs": [
    {
     "name": "stdout",
     "output_type": "stream",
     "text": [
      "sol = [-1.  1.]\n"
     ]
    },
    {
     "data": {
      "image/png": "[encoded data removed]",
      "text/plain": [
       "<Figure size 504x360 with 1 Axes>"
      ]
     },
     "metadata": {
      "needs_background": "light"
     },
     "output_type": "display_data"
    }
   ],
   "source": [
    "# 描画用のスペースを定義\n",
    "fig = plt.figure(figsize = (7, 5))\n",
    "plt.xlabel('$x$') # x ラベル\n",
    "plt.ylabel('$y$') # y ラベル\n",
    "plt.plot(x, y1, color = \"blue\")\n",
    "plt.plot(x, y2, color = \"red\")\n",
    "\n",
    "A_inv = nl.inv(A) # Aの逆行列を計算\n",
    "sol = np.dot(A_inv, b) # Aの逆行列を左からbにかけたものが解となる\n",
    "print('sol = {0}'.format(sol))\n",
    "\n",
    "# 解を点でプロット\n",
    "plt.scatter(sol[0], sol[1], s=500, marker='.')\n",
    "\n",
    "plt.title('solution of $Ax=b$')\n",
    "plt.grid(True)\n",
    "plt.show()"
   ]
  },
  {
   "cell_type": "markdown",
   "metadata": {},
   "source": [
    "### 2. 係数行列$B$ が正則ではない場合\n",
    "$$\n",
    "B = \\left[\n",
    "   \\begin{array}{rrr}\n",
    "      2 & 1 \\\\\n",
    "      6 & 3\n",
    "    \\end{array}\n",
    "\\right]\n",
    "$$\n",
    "\n",
    "の場合，上で見たように $B$ は正則ではない．よって，$Bx = b$ の解は一意に定まらない．\n",
    "\n",
    "今回 $b = (-3,3)$ として，連立1次方程式 $Bx = b$ を解くことを試みる．\n",
    "\n",
    "まずは，この方程式の表す2直線を表示してみる．"
   ]
  },
  {
   "cell_type": "code",
   "execution_count": 31,
   "metadata": {},
   "outputs": [],
   "source": [
    "# Bx = b\n",
    "B = np.array([[2, 1], [6, 3]])\n",
    "b = np.array((-3,3))\n",
    "x = np.linspace(-5, 5, 100) # [-5,5]の範囲で100点等間隔にとる\n",
    "\n",
    "# 方程式の表す直線の式\n",
    "y1 = (-B[0][0] * x + b[0]) / B[0][1]\n",
    "y2 = (-B[1][0] * x + b[1]) / B[1][1]"
   ]
  },
  {
   "cell_type": "code",
   "execution_count": 32,
   "metadata": {
    "scrolled": true
   },
   "outputs": [
    {
     "data": {
      "image/png": "[encoded data removed]",
      "text/plain": [
       "<Figure size 504x360 with 1 Axes>"
      ]
     },
     "metadata": {
      "needs_background": "light"
     },
     "output_type": "display_data"
    }
   ],
   "source": [
    "# 描画用のスペースを定義\n",
    "fig = plt.figure(figsize = (7, 5))\n",
    "plt.xlabel('$x$') # x ラベル\n",
    "plt.ylabel('$y$') # y ラベル\n",
    "plt.plot(x, y1, color = \"blue\")\n",
    "plt.plot(x, y2, color = \"red\")\n",
    "\n",
    "plt.title('$Bx=b$')\n",
    "plt.grid(True)\n",
    "plt.show()"
   ]
  },
  {
   "cell_type": "markdown",
   "metadata": {},
   "source": [
    "上のように，2直線は平行なので解は存在しないことがわかる（不能）．\n",
    "\n",
    "$B$ の一般逆行列 $B^-$ を用いて，$x = B^- b$ とすることで，'それらしい解' を計算することができる．"
   ]
  },
  {
   "cell_type": "code",
   "execution_count": 33,
   "metadata": {},
   "outputs": [
    {
     "name": "stdout",
     "output_type": "stream",
     "text": [
      "sol = [0.24 0.12]\n"
     ]
    },
    {
     "data": {
      "image/png": "[encoded data removed]",
      "text/plain": [
       "<Figure size 504x360 with 1 Axes>"
      ]
     },
     "metadata": {
      "needs_background": "light"
     },
     "output_type": "display_data"
    }
   ],
   "source": [
    "Bp = nl.pinv(B) # 一般逆行列の計算\n",
    "psol = np.dot(Bp, b)\n",
    "print('sol = {0}'.format(psol))\n",
    "\n",
    "\n",
    "# 描画用のスペースを定義\n",
    "fig = plt.figure(figsize = (7, 5))\n",
    "plt.xlabel('$x$') # x ラベル\n",
    "plt.ylabel('$y$') # y ラベル\n",
    "plt.plot(x, y1, color = \"blue\")\n",
    "plt.plot(x, y2, color = \"red\")\n",
    "plt.scatter(psol[0], psol[1], s=500, marker='.')\n",
    "\n",
    "plt.title('$Bx=b$')\n",
    "plt.grid(True)\n",
    "plt.show()"
   ]
  },
  {
   "cell_type": "markdown",
   "metadata": {},
   "source": [
    "### 3. 多すぎる方程式\n",
    "\n",
    "未知数2つに対して3つの方程式からなる連立方程式を考える．\n",
    "\n",
    "係数行列を\n",
    "$$\n",
    "A = \\left[\n",
    "   \\begin{array}{rrr}\n",
    "      1 & 1 \\\\\n",
    "      1 & -1 \\\\\n",
    "      0 & 1\n",
    "    \\end{array}\n",
    "\\right]\n",
    "$$\n",
    "\n",
    "$b = (4,0,1)$ として， $Ax=b$ を考える． \n",
    "\n",
    "この方程式は不能(解なし)であるが，一般逆行列を利用することで 'それらしい解' を計算できる．\n",
    "\n",
    "※ 'それらしい解' とは，最小二乗法の結果として得られる．"
   ]
  },
  {
   "cell_type": "code",
   "execution_count": 35,
   "metadata": {},
   "outputs": [],
   "source": [
    "# Ax = b\n",
    "A = np.array([[1, 1], [1, -1], [0, 1]])\n",
    "b = np.array((4, 0, 1))\n",
    "x = np.linspace(-1, 4, 100) # [-5,5]の範囲で100点等間隔にとる\n",
    "\n",
    "# 方程式の表す直線の式\n",
    "y1 = (-A[0][0] * x + b[0]) / A[0][1]\n",
    "y2 = (-A[1][0] * x + b[1]) / A[1][1]\n",
    "y3 = (-A[2][0] * x + b[2]) / A[2][1]"
   ]
  },
  {
   "cell_type": "code",
   "execution_count": 36,
   "metadata": {},
   "outputs": [
    {
     "name": "stdout",
     "output_type": "stream",
     "text": [
      "sol = [2.         1.66666667]\n"
     ]
    },
    {
     "data": {
      "image/png": "[encoded data removed]",
      "text/plain": [
       "<Figure size 504x360 with 1 Axes>"
      ]
     },
     "metadata": {
      "needs_background": "light"
     },
     "output_type": "display_data"
    }
   ],
   "source": [
    "Ap = nl.pinv(A) # 一般逆行列の計算\n",
    "psol = np.dot(Ap, b)\n",
    "print('sol = {0}'.format(psol))\n",
    "\n",
    "# 描画用のスペースを定義\n",
    "fig = plt.figure(figsize = (7, 5))\n",
    "plt.xlabel('$x$') # x ラベル\n",
    "plt.ylabel('$y$') # y ラベル\n",
    "plt.plot(x, y1, color = \"blue\")\n",
    "plt.plot(x, y2, color = \"red\")\n",
    "plt.plot(x, y3, color = \"green\")\n",
    "plt.scatter(psol[0], psol[1], s=500, marker='.')\n",
    "\n",
    "plt.title('$Ax=b$')\n",
    "plt.grid(True)\n",
    "plt.show()"
   ]
  }
 ],
 "metadata": {
  "kernelspec": {
   "display_name": "Python 3",
   "language": "python",
   "name": "python3"
  },
  "language_info": {
   "codemirror_mode": {
    "name": "ipython",
    "version": 3
   },
   "file_extension": ".py",
   "mimetype": "text/x-python",
   "name": "python",
   "nbconvert_exporter": "python",
   "pygments_lexer": "ipython3",
   "version": "3.6.5"
  }
 },
 "nbformat": 4,
 "nbformat_minor": 4
}
