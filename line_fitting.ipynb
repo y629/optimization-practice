{
 "cells": [
  {
   "cell_type": "markdown",
   "metadata": {},
   "source": [
    "# 直線当てはめ\n",
    "\n",
    "金谷の最適化数学の本を参考にして，2つのモデルを実装する．\n",
    "\n",
    "1. 出力誤差モデル\n",
    "2. 入力誤差モデル"
   ]
  },
  {
   "cell_type": "markdown",
   "metadata": {},
   "source": [
    "## 1. 出力誤差モデル\n",
    "\n",
    "出力に誤差があると仮定するモデル．\n",
    "\n",
    "`np.polyfit` を使えば回帰曲線の係数を得られる．このメソッドの第3引数は回帰曲線の次数．"
   ]
  },
  {
   "cell_type": "code",
   "execution_count": 174,
   "metadata": {},
   "outputs": [
    {
     "name": "stdout",
     "output_type": "stream",
     "text": [
      "回帰直線の傾き = 0.8981\n",
      "回帰直線の切片 = 1.9641\n"
     ]
    }
   ],
   "source": [
    "import numpy as np\n",
    "np.random.seed(42) # 乱数シードを固定(reproductivityのため)\n",
    "\n",
    "# 出力誤差の分布はN(0.0 , 3.0)とする\n",
    "mu = 0.0\n",
    "var = 3.0\n",
    "# データ数\n",
    "N = 30\n",
    "\n",
    "# 真の直線のパラメータ\n",
    "a = 1 #傾き\n",
    "b = 1 #切片\n",
    "\n",
    "# サンプルデータの生成\n",
    "x = np.linspace(0, N, N)\n",
    "y = a * x + b + np.random.normal(mu, var, N) # 出力に誤差(ノイズ)を加える\n",
    "\n",
    "# 回帰直線の係数を計算\n",
    "coef = np.polyfit(x, y, 1)\n",
    "print('回帰直線の傾き = {:.4f}\\n回帰直線の切片 = {:.4f}'.format(coef[0], coef[1]))\n",
    "y_fit = coef[0] * x + coef[1] # 回帰直線の式"
   ]
  },
  {
   "cell_type": "code",
   "execution_count": 195,
   "metadata": {
    "scrolled": true
   },
   "outputs": [
    {
     "data": {
      "image/png": "[encoded data removed]",
      "text/plain": [
       "<Figure size 576x360 with 1 Axes>"
      ]
     },
     "metadata": {
      "needs_background": "light"
     },
     "output_type": "display_data"
    }
   ],
   "source": [
    "# データ点と回帰直線の表示\n",
    "import matplotlib.pyplot as plt\n",
    "%matplotlib inline\n",
    "plt.figure(figsize=(8,5))\n",
    "plt.xlabel('$x$') # x ラベル\n",
    "plt.ylabel('$y$') # y ラベル\n",
    "plt.scatter(x, y) # 測定データ点\n",
    "plt.plot(x, y_fit, color='r') # 回帰直線\n",
    "plt.show()"
   ]
  },
  {
   "cell_type": "markdown",
   "metadata": {},
   "source": [
    "メソッドで簡単に回帰直線がもとまったが，一応公式とあってるか確認しておく．\n",
    "公式は，\n",
    "$$\n",
    "    a = \\frac{S_xy}{S_x^2} \\\\\n",
    "    b = mean(y) - a * mean(x)\n",
    "$$\n",
    "だったので，上式を用いてa,bを計算する．\n",
    "その結果を表示してみると， `np.polyfit` の返り値と同じになっていることがわかる．"
   ]
  },
  {
   "cell_type": "code",
   "execution_count": 176,
   "metadata": {},
   "outputs": [
    {
     "name": "stdout",
     "output_type": "stream",
     "text": [
      "回帰直線の傾き = 0.8981\n",
      "回帰直線の切片 = 1.9641\n"
     ]
    }
   ],
   "source": [
    "# まずは分散共分散行列を計算\n",
    "cov = np.cov(x, y)\n",
    "vx, vxy = cov[0][0], cov[1][0]\n",
    "# a, b の計算\n",
    "ea = vxy / vx\n",
    "eb = np.mean(y) - ea * np.mean(x)\n",
    "print('回帰直線の傾き = {:.4f}\\n回帰直線の切片 = {:.4f}'.format(ea, eb))"
   ]
  },
  {
   "cell_type": "markdown",
   "metadata": {},
   "source": [
    "## 2. 入力誤差モデル\n",
    "\n",
    "入力に誤差があると仮定するモデル（結果的に，出力にも誤差があることになる)．\n",
    "\n",
    "そのため，先ほどとは少しデータの作り方を変更する必要がある．"
   ]
  },
  {
   "cell_type": "code",
   "execution_count": 342,
   "metadata": {},
   "outputs": [],
   "source": [
    "import numpy as np\n",
    "np.random.seed(42) # 乱数シードを固定(reproductivityのため)\n",
    "\n",
    "# 入力誤差の分布はN(0.0 , 3.0)， 出力誤差の分布はN(0.0 , 5.0)とする\n",
    "mi = 0.0\n",
    "vi = 7.0\n",
    "mo = 0.0\n",
    "vo = 9.0\n",
    "# データ数\n",
    "N = 100\n",
    "\n",
    "# 真の直線のパラメータ\n",
    "a = 1 #傾き\n",
    "b = 1 #切片\n",
    "\n",
    "# サンプルデータの生成\n",
    "err_i = np.random.normal(mi, vi, N) # 入力誤差\n",
    "err_o = np.random.normal(mo, vo, N) # 出力誤差\n",
    "x = np.linspace(0, N, N)\n",
    "x += err_i # 入力に誤差を加える\n",
    "y = a * x + b + err_o # 出力に誤差を加える"
   ]
  },
  {
   "cell_type": "code",
   "execution_count": 343,
   "metadata": {},
   "outputs": [
    {
     "data": {
      "image/png": "[encoded data removed]",
      "text/plain": [
       "<Figure size 576x360 with 1 Axes>"
      ]
     },
     "metadata": {
      "needs_background": "light"
     },
     "output_type": "display_data"
    }
   ],
   "source": [
    "# データ点と回帰直線の表示\n",
    "import matplotlib.pyplot as plt\n",
    "%matplotlib inline\n",
    "plt.figure(figsize=(8,5))\n",
    "plt.xlabel('$x$') # x ラベル\n",
    "plt.ylabel('$y$') # y ラベル\n",
    "plt.scatter(x, y) # 測定データ点\n",
    "plt.show()"
   ]
  },
  {
   "cell_type": "markdown",
   "metadata": {},
   "source": [
    "サンプルデータを生成できたので，入力誤差モデルの回帰直線をはてはめる．\n",
    "\n",
    "係数の計算の仕方を以下に示す．詳しい理論は金谷の最適化数学の本を参照．\n",
    "\n",
    "当てはめる直線の式を $Ax+By+C = 0$ とする．\n",
    "\n",
    "1. $x$, $y$ の分散共分散行列の各要素をデータ数$N$倍した行列 $cov$ を計算する．\n",
    "2. $cov$ の最小固有値に属する単位固有ベクトルが，$(A, B)$ となる．\n",
    "3. $C= -Am_x - Bm_y$ で計算できる．ただし，$m_x$は$x$の平均で，$m_y$は$y$の平均．\n",
    "4. $y=ax+b$の形にしたかったら，$a = -A/B$， $b = C/B$ とすればよい．"
   ]
  },
  {
   "cell_type": "code",
   "execution_count": 344,
   "metadata": {},
   "outputs": [
    {
     "name": "stdout",
     "output_type": "stream",
     "text": [
      "分散共分散行列の最小固有値 = 3630.790061203428\n",
      "分散共分散行列の最小固有値に属する単位固有ベクトル = [-0.71902557  0.69498362]\n",
      "回帰直線の傾き = 1.0346\n",
      "回帰直線の切片 = 0.5038\n"
     ]
    }
   ],
   "source": [
    "nl = np.linalg # 線形代数用のライブラリ\n",
    "# 1. 分散共分散行列のN倍した行列を計算\n",
    "cov = N * np.cov(x, y)\n",
    "\n",
    "#  2.covの最小固有値とそれに属する単位固有ベクトルを計算\n",
    "eig_vals, eig_vecs = nl.eig(cov) # 固有値，(単位)固有ベクトルの計算\n",
    "eig_vecs = eig_vecs.T # 固有ベクトルは上のメソッドで縦ベクトルで帰ってくるので\n",
    "\n",
    "# 最小固有値とそれに属する固有ベクトルを保存\n",
    "for val, vec in zip(eig_vals, eig_vecs):\n",
    "    if val == min(eig_vals):\n",
    "        min_eigval = val\n",
    "        min_eigvec = vec\n",
    "print('分散共分散行列の最小固有値 = {0}\\n分散共分散行列の最小固有値に属する単位固有ベクトル = {1}'.format(min_eigval, min_eigvec))\n",
    "\n",
    "# Cの計算\n",
    "ce = [np.mean(x), np.mean(y)]\n",
    "C = - np.dot(min_eigvec, ce)\n",
    "A, B = min_eigvec\n",
    "\n",
    "# Ax+By+C=0の形をy = ax + bの形にする\n",
    "a = -A/B\n",
    "b = C/B\n",
    "print('回帰直線の傾き = {:.4f}\\n回帰直線の切片 = {:.4f}'.format(a, b))\n"
   ]
  },
  {
   "cell_type": "code",
   "execution_count": 345,
   "metadata": {},
   "outputs": [
    {
     "data": {
      "image/png": "[encoded data removed]",
      "text/plain": [
       "<Figure size 576x360 with 1 Axes>"
      ]
     },
     "metadata": {
      "needs_background": "light"
     },
     "output_type": "display_data"
    }
   ],
   "source": [
    "x_ = np.linspace(0, N, N)\n",
    "y_fit = a * x_ + b # 回帰直線の式\n",
    "plt.figure(figsize=(8,5))\n",
    "plt.xlabel('$x$') # x ラベル\n",
    "plt.ylabel('$y$') # y ラベル\n",
    "plt.scatter(x, y) # 測定データ点\n",
    "plt.plot(x_, y_fit, color='r') # 回帰直線をプロット\n",
    "plt.show()"
   ]
  },
  {
   "cell_type": "markdown",
   "metadata": {},
   "source": [
    "せっかくなので，入力誤差モデルと出力誤差モデルの回帰直線を比べてみる．"
   ]
  },
  {
   "cell_type": "code",
   "execution_count": 346,
   "metadata": {},
   "outputs": [
    {
     "name": "stdout",
     "output_type": "stream",
     "text": [
      "入力誤差モデル：回帰直線の傾き = 1.0346\n",
      "回帰直線の切片 = 0.5038\n",
      "出力誤差モデル：回帰直線の傾き = 0.9936\n",
      "回帰直線の切片 = 1.5174\n"
     ]
    }
   ],
   "source": [
    "coef = np.polyfit(x, y, 1)\n",
    "y_fit_o = coef[0] * x_ + coef[1]\n",
    "print('入力誤差モデル：回帰直線の傾き = {:.4f}\\n回帰直線の切片 = {:.4f}'.format(a, b))\n",
    "print('出力誤差モデル：回帰直線の傾き = {:.4f}\\n回帰直線の切片 = {:.4f}'.format(coef[0], coef[1]))"
   ]
  },
  {
   "cell_type": "code",
   "execution_count": 347,
   "metadata": {},
   "outputs": [
    {
     "data": {
      "image/png": "[encoded data removed]",
      "text/plain": [
       "<Figure size 576x360 with 1 Axes>"
      ]
     },
     "metadata": {
      "needs_background": "light"
     },
     "output_type": "display_data"
    }
   ],
   "source": [
    "plt.figure(figsize=(8,5))\n",
    "plt.xlabel('$x$') # x ラベル\n",
    "plt.ylabel('$y$') # y ラベル\n",
    "plt.scatter(x, y) # 測定データ点\n",
    "plt.plot(x_, y_fit, color='r', label='InputErrorModel') # 回帰直線(入力誤差モデル)\n",
    "plt.plot(x_, y_fit_o, color='g', label='OutputErrorModel') # 回帰直線(出力誤差モデル)\n",
    "plt.legend()\n",
    "plt.show()"
   ]
  },
  {
   "cell_type": "markdown",
   "metadata": {},
   "source": [
    "# 最適化問題との関係 \n",
    "\n",
    "出力誤差モデル：　入力$x$における出力$y$の真の値と測定値の差の2乗和を最小化する．最適化の目的関数は，\n",
    "$$\n",
    "    J = \\frac{1}{2} \\sum_{i=1}^N (y_i - (ax_i - b))^2 \n",
    "$$\n",
    "入力誤差モデル：　各データ点と直線との垂直距離(の2乗)の合計を最小化する．最適化の目的関数は，\n",
    "$$\n",
    "    J = \\frac{1}{2} \\sum_{i=1}^N ((x-x_i)^2 +  (y-y_i)^2)\n",
    "$$\n",
    "\n",
    "よって，\n",
    "- 各データ点のxに対するyと直線のyの値の誤差の２乗和を計算する関数\n",
    "\n",
    "- 各データ点と直線との垂直距離の総和を計算する関数\n",
    "\n",
    "を作成し，その値の大小を2つのモデルで比較してみる．"
   ]
  },
  {
   "cell_type": "code",
   "execution_count": 348,
   "metadata": {},
   "outputs": [],
   "source": [
    "# 各データ点と直線との垂直距離の総和を計算する関数\n",
    "def SumDist(x, y, A, B, C):\n",
    "    return np.sum(np.abs(A*x+B*y+C) / np.sqrt(A*A+B*B)) # 点と直線の距離の公式より\n",
    "\n",
    "# 各データ点のyと直線のyの誤差の２乗和を計算する関数\n",
    "def SumSqError(x, y, A, B, C):\n",
    "    return np.sum((y-A*x-B*y-C)**2)"
   ]
  },
  {
   "cell_type": "code",
   "execution_count": 349,
   "metadata": {},
   "outputs": [
    {
     "name": "stdout",
     "output_type": "stream",
     "text": [
      "入力誤差モデル： SumDist = 474.5775547468661\n",
      "\n",
      "出力誤差モデル： SumDist = 482.56964259165443\n",
      "\n",
      "入力誤差モデル： SumSqError = 350146.36155832274\n",
      "\n",
      "出力誤差モデル： SumSqError = 344258.6795368421\n",
      "\n"
     ]
    }
   ],
   "source": [
    "print('入力誤差モデル： SumDist = {0}\\n'.format(SumDist(x, y, A, B, C)))\n",
    "print('出力誤差モデル： SumDist = {0}\\n'.format(SumDist(x, y, -coef[0], 1, -coef[1])))\n",
    "\n",
    "print('入力誤差モデル： SumSqError = {0}\\n'.format(SumSqError(x, y, A, B, C)))\n",
    "print('出力誤差モデル： SumSqError = {0}\\n'.format(SumSqError(x, y, -coef[0], 1, -coef[1])))"
   ]
  }
 ],
 "metadata": {
  "kernelspec": {
   "display_name": "Python 3",
   "language": "python",
   "name": "python3"
  },
  "language_info": {
   "codemirror_mode": {
    "name": "ipython",
    "version": 3
   },
   "file_extension": ".py",
   "mimetype": "text/x-python",
   "name": "python",
   "nbconvert_exporter": "python",
   "pygments_lexer": "ipython3",
   "version": "3.6.5"
  }
 },
 "nbformat": 4,
 "nbformat_minor": 4
}
